{
 "cells": [
  {
   "cell_type": "code",
   "execution_count": null,
   "id": "4f51ba92-ee85-40af-a5f2-8a5794115604",
   "metadata": {},
   "outputs": [],
   "source": [
    "!pip install kfp --upgrade --user --quiet"
   ]
  },
  {
   "cell_type": "code",
   "execution_count": 1,
   "id": "3ae203a3-9a3c-41ee-a1e6-27176ee96bc0",
   "metadata": {},
   "outputs": [
    {
     "name": "stdout",
     "output_type": "stream",
     "text": [
      "Name: kfp\n",
      "Version: 1.6.3\n",
      "Summary: KubeFlow Pipelines SDK\n",
      "Home-page: \n",
      "Author: google\n",
      "Author-email: \n",
      "License: \n",
      "Location: /opt/conda/lib/python3.8/site-packages\n",
      "Requires: absl-py, click, cloudpickle, Deprecated, docstring-parser, fire, google-api-python-client, google-auth, google-cloud-storage, jsonschema, kfp-pipeline-spec, kfp-server-api, kubernetes, protobuf, PyYAML, requests-toolbelt, strip-hints, tabulate\n",
      "Required-by: \n"
     ]
    }
   ],
   "source": [
    "# confirm the kfp sdk\n",
    "! pip show kfp"
   ]
  },
  {
   "cell_type": "code",
   "execution_count": 2,
   "id": "15857558-5bf8-44a5-b718-96e9edb80639",
   "metadata": {},
   "outputs": [],
   "source": [
    "import kfp\n",
    "import kfp.components as comp\n",
    "import kfp.dsl as dsl\n",
    "from kfp.components import OutputPath\n",
    "from typing import NamedTuple\n",
    "from kubernetes import client"
   ]
  },
  {
   "cell_type": "code",
   "execution_count": 12,
   "id": "dd72092f-8ccf-47a6-b7dc-45e5563f3080",
   "metadata": {},
   "outputs": [],
   "source": [
    "def data_download_from_url(dataurl, datapath):\n",
    "    vop = dsl.VolumeOp(name=\"create_helmet_data_storage_volume\",\n",
    "                       resource_name=\"helmet_data_storage_volume\", size='10Gi', \n",
    "                       modes=dsl.VOLUME_MODE_RWO)\n",
    "\n",
    "    return dsl.ContainerOp(\n",
    "        name = 'Download Data', \n",
    "        image = 'harbor-repo.vmware.com/juanl/helmet_detection_pipeline:v1',\n",
    "        command = ['python3', 'ingest_pipeline.py'],\n",
    "        arguments=[\n",
    "            '--dataurl', dataurl,\n",
    "            '--datapath', datapath\n",
    "        ],\n",
    "        pvolumes={\n",
    "            '/VOCdevkit': vop.volume\n",
    "        }\n",
    "    )"
   ]
  },
  {
   "cell_type": "code",
   "execution_count": 13,
   "id": "40bf2e8d-2e7f-4544-8832-baa28659984c",
   "metadata": {},
   "outputs": [],
   "source": [
    "def data_process(comp1):\n",
    "    return dsl.ContainerOp(\n",
    "        name = 'Process Data', \n",
    "        image = 'harbor-repo.vmware.com/juanl/helmet_detection_pipeline:v1',\n",
    "        command = ['python3', 'prepare.py'],\n",
    "        pvolumes={\n",
    "            '/VOCdevkit': comp1.pvolumes['/VOCdevkit']\n",
    "        }\n",
    "    )"
   ]
  },
  {
   "cell_type": "code",
   "execution_count": 18,
   "id": "ac6df26d-abf4-436d-961f-fc34645dba9a",
   "metadata": {},
   "outputs": [],
   "source": [
    "def model_train(comp2, epoch, device, workers_num):\n",
    "    return dsl.ContainerOp(\n",
    "        name = 'Model Training',\n",
    "        image = 'harbor-repo.vmware.com/juanl/helmet_detection_pipeline:v1',\n",
    "        pvolumes={\n",
    "            '/VOCdevkit': comp2.pvolumes['/VOCdevkit']\n",
    "        },\n",
    "        # command=['sh', '-c'],\n",
    "        # arguments=['nvidia-smi'],\n",
    "        command = ['python3', 'train_pipeline.py'],\n",
    "        arguments=[\n",
    "            '--epoch', epoch,\n",
    "            '--device', device,\n",
    "            '--workers', workers_num,\n",
    "        ],\n",
    "    ).set_gpu_limit(1).set_cpu_request('2').set_memory_request('8G')"
   ]
  },
  {
   "cell_type": "code",
   "execution_count": 21,
   "id": "5d606455-8008-46a8-8f9e-06eee42bc68d",
   "metadata": {},
   "outputs": [],
   "source": [
    "@dsl.pipeline(\n",
    "    name = 'helmet detection pipeline',\n",
    "    description = 'pipeline to detect helmet')\n",
    "def generate_pipeline(dataurl, datapath, epoch, device, workers_num):\n",
    "    comp1 = data_download_from_url(dataurl, datapath)\n",
    "    comp2 = data_process(comp1)\n",
    "    comp3 = model_train(comp2, epoch, device, workers_num)"
   ]
  },
  {
   "cell_type": "code",
   "execution_count": null,
   "id": "f298f741",
   "metadata": {},
   "outputs": [],
   "source": [
    "!mkdir generated_yaml_files"
   ]
  },
  {
   "cell_type": "code",
   "execution_count": 22,
   "id": "3b69b631-cbb8-4329-bef6-3617dfdf89b7",
   "metadata": {},
   "outputs": [],
   "source": [
    "if __name__ == '__main__':\n",
    "  import kfp.compiler as compiler\n",
    "  compiler.Compiler().compile(generate_pipeline, './generated_yaml_files/helmet_detection_pipeline' + '.yaml')"
   ]
  },
  {
   "cell_type": "code",
   "execution_count": null,
   "id": "3a429498-06ed-422e-8691-1fbd66a1b26d",
   "metadata": {},
   "outputs": [],
   "source": []
  }
 ],
 "metadata": {
  "kernelspec": {
   "display_name": "Python 3 (ipykernel)",
   "language": "python",
   "name": "python3"
  },
  "language_info": {
   "codemirror_mode": {
    "name": "ipython",
    "version": 3
   },
   "file_extension": ".py",
   "mimetype": "text/x-python",
   "name": "python",
   "nbconvert_exporter": "python",
   "pygments_lexer": "ipython3",
   "version": "3.8.10"
  }
 },
 "nbformat": 4,
 "nbformat_minor": 5
}
